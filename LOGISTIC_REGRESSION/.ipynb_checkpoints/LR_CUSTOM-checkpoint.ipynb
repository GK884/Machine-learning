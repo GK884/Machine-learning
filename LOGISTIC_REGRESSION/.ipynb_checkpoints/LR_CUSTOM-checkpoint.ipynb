{
 "cells": [
  {
   "cell_type": "code",
   "execution_count": 1,
   "metadata": {},
   "outputs": [
    {
     "data": {
      "text/plain": [
       "<matplotlib.collections.PathCollection at 0x7fa0a8f73340>"
      ]
     },
     "execution_count": 1,
     "metadata": {},
     "output_type": "execute_result"
    },
    {
     "data": {
      "image/png": "[encoded data removed]",
      "text/plain": [
       "<Figure size 432x288 with 1 Axes>"
      ]
     },
     "metadata": {
      "needs_background": "light"
     },
     "output_type": "display_data"
    }
   ],
   "source": [
    "import numpy as np\n",
    "from sklearn.datasets import make_blobs\n",
    "from sklearn.linear_model import LogisticRegression\n",
    "import matplotlib.pyplot as plt\n",
    "from sklearn.model_selection import train_test_split\n",
    "\n",
    "X, y = make_blobs(centers=2, random_state=42)\n",
    "\n",
    "plt.scatter(X[:, 0], X[:, 1], c=y)"
   ]
  },
  {
   "cell_type": "code",
   "execution_count": 2,
   "metadata": {},
   "outputs": [],
   "source": [
    "class CustomLogisticRegression:\n",
    "    \n",
    "    def __init__(self, lr=0.01, iters=20):\n",
    "        self.__lr = lr\n",
    "        self.__iters = iters\n",
    "    \n",
    "    def fit(self, X, y):\n",
    "        \n",
    "        self.__y = y.reshape(-1, 1)\n",
    "        X_mod = np.hstack([np.ones([len(X), 1]), X])\n",
    "        self.__X = X_mod\n",
    "        \n",
    "        self.__theta = np.zeros([X_mod.shape[1], 1])\n",
    "        \n",
    "        err = []\n",
    "        for i in range(self.__iters):\n",
    "            err.append(self.error())\n",
    "            self.gradient_accend()\n",
    "            \n",
    "        self.theta_ = self.__theta \n",
    "            \n",
    "        return err\n",
    "        \n",
    "    def gradient_accend(self):\n",
    "        delta_theta = self.gradient()\n",
    "#         print(delta_theta.shape) # (3,1)\n",
    "        self.__theta -= delta_theta\n",
    "        \n",
    "    def gradient(self):\n",
    "        yh = self.hypothesis(self.__X)\n",
    "#         print(yh.shape) # (100, 1)\n",
    "        ya = self.__y\n",
    "        diff = -(ya - yh) # (100, 1) # here i have taken -ve of log likelyhood, hence gradiet descent            \n",
    "        return np.dot(self.__X.T, diff) * self.__lr # (3,1) # for every feature, sum(diff * ith example)\n",
    "        \n",
    "    def hypothesis(self, X):\n",
    "        prod = np.dot(X, self.__theta)\n",
    "#         print(X.shape) # (100,3)        \n",
    "#         print(self.__theta.shape) # (3,1)\n",
    "#         print(prod.shape) # (100,1)\n",
    "        return 1 / (1 + np.exp(-prod))\n",
    "        \n",
    "    def error(self):\n",
    "        yh = self.hypothesis(self.__X)\n",
    "        ya = self.__y\n",
    "        ll = ya*np.log(yh) + (1-ya)*np.log(1-yh)\n",
    "#         print(ll.shape) # (100, 1)\n",
    "        return -np.mean(ll)\n",
    "    \n",
    "    def predict(self, X):\n",
    "        X_mod = np.hstack([np.ones([len(X), 1]), X])\n",
    "        yh = self.hypothesis(X_mod)\n",
    "        \n",
    "        return (yh > .5).astype(int).flatten()\n",
    "    \n",
    "    def score(self, X, y):\n",
    "        yp = self.predict(X)\n",
    "        return np.mean(yp == y)\n",
    "    \n",
    "    def confusion_matrix(self, X, y):\n",
    "        yp = self.predict(X)\n",
    "        \n",
    "        tp = np.mean((y==1) & (yp==1))\n",
    "        tn = np.mean((y==0) & (yp==0))\n",
    "        fp = np.mean((y==0) & (yp==1))\n",
    "        fn = np.mean((y==1) & (yp==0))\n",
    "        \n",
    "        return np.array([[tp, fp], [fn, tn]])\n",
    "        \n",
    "        "
   ]
  },
  {
   "cell_type": "code",
   "execution_count": 3,
   "metadata": {},
   "outputs": [],
   "source": [
    "model = CustomLogisticRegression()"
   ]
  },
  {
   "cell_type": "code",
   "execution_count": 4,
   "metadata": {},
   "outputs": [],
   "source": [
    "X_train, X_test, y_train, y_test = train_test_split(\n",
    "...     X, y, test_size=0.33, random_state=42)"
   ]
  },
  {
   "cell_type": "code",
   "execution_count": 5,
   "metadata": {},
   "outputs": [],
   "source": [
    "err = model.fit(X_train, y_train)"
   ]
  },
  {
   "cell_type": "code",
   "execution_count": 6,
   "metadata": {},
   "outputs": [
    {
     "data": {
      "text/plain": [
       "[<matplotlib.lines.Line2D at 0x7fa0a9095040>]"
      ]
     },
     "execution_count": 6,
     "metadata": {},
     "output_type": "execute_result"
    },
    {
     "data": {
      "image/png": "[encoded data removed]",
      "text/plain": [
       "<Figure size 432x288 with 1 Axes>"
      ]
     },
     "metadata": {
      "needs_background": "light"
     },
     "output_type": "display_data"
    }
   ],
   "source": [
    "plt.plot(err)"
   ]
  },
  {
   "cell_type": "code",
   "execution_count": 7,
   "metadata": {},
   "outputs": [
    {
     "data": {
      "text/plain": [
       "array([[ 0.12555144],\n",
       "       [ 1.71678641],\n",
       "       [-0.74610907]])"
      ]
     },
     "execution_count": 7,
     "metadata": {},
     "output_type": "execute_result"
    }
   ],
   "source": [
    "model.theta_"
   ]
  },
  {
   "cell_type": "code",
   "execution_count": 8,
   "metadata": {},
   "outputs": [
    {
     "data": {
      "text/plain": [
       "<bound method CustomLogisticRegression.score of <__main__.CustomLogisticRegression object at 0x7fa0a8feb130>>"
      ]
     },
     "execution_count": 8,
     "metadata": {},
     "output_type": "execute_result"
    }
   ],
   "source": [
    "model.score"
   ]
  },
  {
   "cell_type": "code",
   "execution_count": null,
   "metadata": {},
   "outputs": [],
   "source": []
  }
 ],
 "metadata": {
  "kernelspec": {
   "display_name": "Python 3",
   "language": "python",
   "name": "python3"
  },
  "language_info": {
   "codemirror_mode": {
    "name": "ipython",
    "version": 3
   },
   "file_extension": ".py",
   "mimetype": "text/x-python",
   "name": "python",
   "nbconvert_exporter": "python",
   "pygments_lexer": "ipython3",
   "version": "3.8.3"
  }
 },
 "nbformat": 4,
 "nbformat_minor": 4
}
