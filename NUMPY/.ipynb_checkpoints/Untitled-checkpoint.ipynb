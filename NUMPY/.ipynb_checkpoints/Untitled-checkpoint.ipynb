{
 "cells": [
  {
   "cell_type": "code",
   "execution_count": 1,
   "metadata": {},
   "outputs": [
    {
     "name": "stdout",
     "output_type": "stream",
     "text": [
      "Collecting opencv-python\n",
      "  Downloading opencv_python-4.4.0.42-cp38-cp38-macosx_10_13_x86_64.whl (52.2 MB)\n",
      "\u001b[K     |████████████████████████████████| 52.2 MB 626 kB/s eta 0:00:01    |███▉                            | 6.2 MB 293 kB/s eta 0:02:37     |██████████▍                     | 17.0 MB 211 kB/s eta 0:02:47     |█████████████▊                  | 22.3 MB 186 kB/s eta 0:02:40     |███████████████████▌            | 31.9 MB 275 kB/s eta 0:01:14     |███████████████████▋            | 32.0 MB 275 kB/s eta 0:01:14     |██████████████████████████▋     | 43.4 MB 133 kB/s eta 0:01:07\n",
      "\u001b[?25hRequirement already satisfied: numpy>=1.17.3 in /Users/ayushgoel/opt/anaconda3/lib/python3.8/site-packages (from opencv-python) (1.18.5)\n",
      "Installing collected packages: opencv-python\n",
      "Successfully installed opencv-python-4.4.0.42\n"
     ]
    }
   ],
   "source": [
    "!pip install opencv-python"
   ]
  },
  {
   "cell_type": "code",
   "execution_count": null,
   "metadata": {},
   "outputs": [],
   "source": []
  },
  {
   "cell_type": "code",
   "execution_count": null,
   "metadata": {},
   "outputs": [],
   "source": []
  }
 ],
 "metadata": {
  "kernelspec": {
   "display_name": "Python 3",
   "language": "python",
   "name": "python3"
  },
  "language_info": {
   "codemirror_mode": {
    "name": "ipython",
    "version": 3
   },
   "file_extension": ".py",
   "mimetype": "text/x-python",
   "name": "python",
   "nbconvert_exporter": "python",
   "pygments_lexer": "ipython3",
   "version": "3.8.3"
  }
 },
 "nbformat": 4,
 "nbformat_minor": 4
}
