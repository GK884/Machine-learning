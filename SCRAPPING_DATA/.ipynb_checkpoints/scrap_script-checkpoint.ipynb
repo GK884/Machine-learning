{
 "cells": [
  {
   "cell_type": "code",
   "execution_count": 1,
   "metadata": {},
   "outputs": [],
   "source": [
    "import requests \n",
    "from bs4 import BeautifulSoup"
   ]
  },
  {
   "cell_type": "code",
   "execution_count": 16,
   "metadata": {},
   "outputs": [],
   "source": [
    "def get_quotes(url):\n",
    "\n",
    "    url=('https://www.goodreads.com/quotes/tag/{}')\n",
    "    requests.get\n",
    "\n",
    "    url.format('love')\n",
    "\n",
    "    res=requests.get(url)\n",
    "\n",
    "    soup=BeautifulSoup(res.text)\n",
    "\n",
    "    links=soup.find_all('a')  #PROVIDES ALL THE ENTER TAGS (LINKS) ASSOCIATED WITH THE PAGE \n",
    "\n",
    "    quotes_divs=soup.find_all('div',attrs={'class':'quote'})\n",
    "\n",
    "    quotes=[]\n",
    "\n",
    "    for quotes_div in quotes_divs:\n",
    "\n",
    "        quotetext_div=quotes_div.find_next('div',attrs={'class':'quoteText'})\n",
    "\n",
    "        quotetext_div\n",
    "\n",
    "        stripped=quotetext_div.text.strip()\n",
    "\n",
    "        stripped_li=stripped.split('\\n')\n",
    "\n",
    "        quote=stripped_li[0][1:-1]\n",
    "        author=stripped_li[-1].strip()\n",
    "\n",
    "        left_div=quotes_div.find_next('div',attrs={'class':'left'})\n",
    "        tags=[tag.text for tag in left_div.find_all('a')]\n",
    "\n",
    "        quote_item={\n",
    "            \"text\":quote,\n",
    "            \"author\":author,\n",
    "            \"tags\":tags\n",
    "        }\n",
    "\n",
    "        quotes.append(quote_item)\n",
    "        \n",
    "    return quotes\n",
    "\n"
   ]
  },
  {
   "cell_type": "code",
   "execution_count": 20,
   "metadata": {},
   "outputs": [
    {
     "name": "stdout",
     "output_type": "stream",
     "text": [
      "processed 1\n",
      "processed 2\n",
      "processed 3\n",
      "processed 4\n",
      "processed 5\n"
     ]
    }
   ],
   "source": [
    "total=[]\n",
    "for i in range(1,6):\n",
    "    total.extend(get_quotes(url.format('love',i)))\n",
    "    print('processed', i)"
   ]
  },
  {
   "cell_type": "code",
   "execution_count": 21,
   "metadata": {},
   "outputs": [
    {
     "data": {
      "text/plain": [
       "150"
      ]
     },
     "execution_count": 21,
     "metadata": {},
     "output_type": "execute_result"
    }
   ],
   "source": [
    "len(total)"
   ]
  },
  {
   "cell_type": "code",
   "execution_count": 22,
   "metadata": {},
   "outputs": [],
   "source": [
    "import pandas as pd "
   ]
  },
  {
   "cell_type": "code",
   "execution_count": 23,
   "metadata": {},
   "outputs": [
    {
     "data": {
      "text/html": [
       "<div>\n",
       "<style scoped>\n",
       "    .dataframe tbody tr th:only-of-type {\n",
       "        vertical-align: middle;\n",
       "    }\n",
       "\n",
       "    .dataframe tbody tr th {\n",
       "        vertical-align: top;\n",
       "    }\n",
       "\n",
       "    .dataframe thead th {\n",
       "        text-align: right;\n",
       "    }\n",
       "</style>\n",
       "<table border=\"1\" class=\"dataframe\">\n",
       "  <thead>\n",
       "    <tr style=\"text-align: right;\">\n",
       "      <th></th>\n",
       "      <th>text</th>\n",
       "      <th>author</th>\n",
       "      <th>tags</th>\n",
       "    </tr>\n",
       "  </thead>\n",
       "  <tbody>\n",
       "    <tr>\n",
       "      <th>0</th>\n",
       "      <td>I'm selfish, impatient and a little insecure. ...</td>\n",
       "      <td>Marilyn Monroe</td>\n",
       "      <td>[attributed-no-source, best, life, love, mista...</td>\n",
       "    </tr>\n",
       "    <tr>\n",
       "      <th>1</th>\n",
       "      <td>Be yourself; everyone else is already taken.</td>\n",
       "      <td>Oscar Wilde</td>\n",
       "      <td>[attributed-no-source, be-yourself, honesty, i...</td>\n",
       "    </tr>\n",
       "    <tr>\n",
       "      <th>2</th>\n",
       "      <td>Two things are infinite: the universe and huma...</td>\n",
       "      <td>Albert Einstein</td>\n",
       "      <td>[attributed-no-source, human-nature, humor, in...</td>\n",
       "    </tr>\n",
       "    <tr>\n",
       "      <th>3</th>\n",
       "      <td>So many books, so little time.</td>\n",
       "      <td>Frank Zappa</td>\n",
       "      <td>[books, humor]</td>\n",
       "    </tr>\n",
       "    <tr>\n",
       "      <th>4</th>\n",
       "      <td>Be who you are and say what you feel, because ...</td>\n",
       "      <td>Bernard M. Baruch</td>\n",
       "      <td>[ataraxy, be-yourself, confidence, fitting-in,...</td>\n",
       "    </tr>\n",
       "    <tr>\n",
       "      <th>...</th>\n",
       "      <td>...</td>\n",
       "      <td>...</td>\n",
       "      <td>...</td>\n",
       "    </tr>\n",
       "    <tr>\n",
       "      <th>145</th>\n",
       "      <td>To be yourself in a world that is constantly t...</td>\n",
       "      <td>Ralph Waldo Emerson</td>\n",
       "      <td>[accomplishment, attributed-no-source, be-your...</td>\n",
       "    </tr>\n",
       "    <tr>\n",
       "      <th>146</th>\n",
       "      <td>Here's to the crazy ones. The misfits. The reb...</td>\n",
       "      <td>Rob Siltanen</td>\n",
       "      <td>[advertising, apple, change, commercial, compu...</td>\n",
       "    </tr>\n",
       "    <tr>\n",
       "      <th>147</th>\n",
       "      <td>Insanity is doing the same thing, over and ove...</td>\n",
       "      <td>Narcotics Anonymous</td>\n",
       "      <td>[humor, insanity, life, misattributed-ben-fran...</td>\n",
       "    </tr>\n",
       "    <tr>\n",
       "      <th>148</th>\n",
       "      <td>I believe that everything happens for a reason...</td>\n",
       "      <td>Marilyn Monroe</td>\n",
       "      <td>[attributed-no-source, misattributed-marilyn-m...</td>\n",
       "    </tr>\n",
       "    <tr>\n",
       "      <th>149</th>\n",
       "      <td>Twenty years from now you will be more disappo...</td>\n",
       "      <td>P.S. I Love You</td>\n",
       "      <td>[actions, disappointed, disappointment, dream,...</td>\n",
       "    </tr>\n",
       "  </tbody>\n",
       "</table>\n",
       "<p>150 rows × 3 columns</p>\n",
       "</div>"
      ],
      "text/plain": [
       "                                                  text               author  \\\n",
       "0    I'm selfish, impatient and a little insecure. ...       Marilyn Monroe   \n",
       "1         Be yourself; everyone else is already taken.          Oscar Wilde   \n",
       "2    Two things are infinite: the universe and huma...      Albert Einstein   \n",
       "3                       So many books, so little time.          Frank Zappa   \n",
       "4    Be who you are and say what you feel, because ...    Bernard M. Baruch   \n",
       "..                                                 ...                  ...   \n",
       "145  To be yourself in a world that is constantly t...  Ralph Waldo Emerson   \n",
       "146  Here's to the crazy ones. The misfits. The reb...         Rob Siltanen   \n",
       "147  Insanity is doing the same thing, over and ove...  Narcotics Anonymous   \n",
       "148  I believe that everything happens for a reason...       Marilyn Monroe   \n",
       "149  Twenty years from now you will be more disappo...      P.S. I Love You   \n",
       "\n",
       "                                                  tags  \n",
       "0    [attributed-no-source, best, life, love, mista...  \n",
       "1    [attributed-no-source, be-yourself, honesty, i...  \n",
       "2    [attributed-no-source, human-nature, humor, in...  \n",
       "3                                       [books, humor]  \n",
       "4    [ataraxy, be-yourself, confidence, fitting-in,...  \n",
       "..                                                 ...  \n",
       "145  [accomplishment, attributed-no-source, be-your...  \n",
       "146  [advertising, apple, change, commercial, compu...  \n",
       "147  [humor, insanity, life, misattributed-ben-fran...  \n",
       "148  [attributed-no-source, misattributed-marilyn-m...  \n",
       "149  [actions, disappointed, disappointment, dream,...  \n",
       "\n",
       "[150 rows x 3 columns]"
      ]
     },
     "execution_count": 23,
     "metadata": {},
     "output_type": "execute_result"
    }
   ],
   "source": [
    "pd.DataFrame(total)"
   ]
  },
  {
   "cell_type": "code",
   "execution_count": 24,
   "metadata": {},
   "outputs": [],
   "source": [
    "df=pd.DataFrame(total)"
   ]
  },
  {
   "cell_type": "code",
   "execution_count": 26,
   "metadata": {},
   "outputs": [],
   "source": [
    "df.to_csv('scrap1.csv', index=None )"
   ]
  },
  {
   "cell_type": "code",
   "execution_count": null,
   "metadata": {},
   "outputs": [],
   "source": []
  }
 ],
 "metadata": {
  "kernelspec": {
   "display_name": "Python 3",
   "language": "python",
   "name": "python3"
  },
  "language_info": {
   "codemirror_mode": {
    "name": "ipython",
    "version": 3
   },
   "file_extension": ".py",
   "mimetype": "text/x-python",
   "name": "python",
   "nbconvert_exporter": "python",
   "pygments_lexer": "ipython3",
   "version": "3.8.3"
  }
 },
 "nbformat": 4,
 "nbformat_minor": 4
}
